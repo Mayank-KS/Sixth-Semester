{
 "cells": [
  {
   "cell_type": "markdown",
   "id": "2bcb2837",
   "metadata": {},
   "source": [
    "# Lab Assignment 3"
   ]
  },
  {
   "cell_type": "markdown",
   "id": "5044d862",
   "metadata": {},
   "source": [
    "### 4. WAP to find the GCD/HCF of two numbers"
   ]
  },
  {
   "cell_type": "code",
   "execution_count": 13,
   "id": "e48da4bb",
   "metadata": {},
   "outputs": [
    {
     "name": "stdout",
     "output_type": "stream",
     "text": [
      "Enter the first number: 20\n",
      "Enter the second number: 40\n",
      "The hcf is:  20\n"
     ]
    }
   ],
   "source": [
    "def hcf(num1, num2):\n",
    "    if(num1>num2):\n",
    "        limit = num2\n",
    "    else:\n",
    "        limit = num1\n",
    "    for i in reversed(range(0,limit+1)):\n",
    "        if(num1 % i == 0 and num2 % i == 0):\n",
    "            return i\n",
    "\n",
    "n1 = int(input(\"Enter the first number: \"))\n",
    "n2 = int(input(\"Enter the second number: \"))\n",
    "ans = hcf(n1,n2)\n",
    "print(\"The hcf is: \", ans)"
   ]
  },
  {
   "cell_type": "markdown",
   "id": "84150331",
   "metadata": {},
   "source": [
    "### 5. WAP to check whether a number n is prime number or not."
   ]
  },
  {
   "cell_type": "code",
   "execution_count": 16,
   "id": "599d6b35",
   "metadata": {},
   "outputs": [
    {
     "name": "stdout",
     "output_type": "stream",
     "text": [
      "Enter a number: 11\n",
      "The number is prime\n"
     ]
    }
   ],
   "source": [
    "def prime(n):\n",
    "    for i in range(2,int(n/2)):\n",
    "        if(n%i == 0):\n",
    "            return False\n",
    "    return True\n",
    "\n",
    "n = int(input(\"Enter a number: \"))\n",
    "ans = prime(n)\n",
    "if(ans):\n",
    "    print(\"The number is prime\")\n",
    "else:\n",
    "    print(\"The number is not prime\")\n",
    "    "
   ]
  },
  {
   "cell_type": "markdown",
   "id": "a6644279",
   "metadata": {},
   "source": [
    "### 6. WAP to print all odd and even numbers separately within a given range. (User input)"
   ]
  },
  {
   "cell_type": "code",
   "execution_count": 20,
   "id": "819e066c",
   "metadata": {},
   "outputs": [
    {
     "name": "stdout",
     "output_type": "stream",
     "text": [
      "Enter starting index: 100\n",
      "Enter ending index: 120\n",
      "The odd numbers are: \n",
      "101\n",
      "103\n",
      "105\n",
      "107\n",
      "109\n",
      "111\n",
      "113\n",
      "115\n",
      "117\n",
      "119\n",
      "The even numbers are: \n",
      "100\n",
      "102\n",
      "104\n",
      "106\n",
      "108\n",
      "110\n",
      "112\n",
      "114\n",
      "116\n",
      "118\n"
     ]
    }
   ],
   "source": [
    "def odd_even_printing(s,e):\n",
    "    print(\"The odd numbers are: \")\n",
    "    for i in range(s,e):\n",
    "        if(i % 2 != 0):\n",
    "            print(i)\n",
    "    print(\"The even numbers are: \")\n",
    "    for i in range(s,e):\n",
    "        if(i % 2 == 0):\n",
    "            print(i)\n",
    "    \n",
    "s = int(input(\"Enter starting index: \"))\n",
    "e = int(input(\"Enter ending index: \"))\n",
    "odd_even_printing(s , e)"
   ]
  },
  {
   "cell_type": "markdown",
   "id": "779f1fde",
   "metadata": {},
   "source": [
    "### 7. WAP to evaluate the equation y=xn where n is a non-negative integer."
   ]
  },
  {
   "cell_type": "code",
   "execution_count": null,
   "id": "c174d776",
   "metadata": {},
   "outputs": [],
   "source": []
  },
  {
   "cell_type": "markdown",
   "id": "c6d8e0e8",
   "metadata": {},
   "source": [
    "### 8. WAP to check whether an input integer is perfect number or not."
   ]
  },
  {
   "cell_type": "code",
   "execution_count": null,
   "id": "dd9147c2",
   "metadata": {},
   "outputs": [],
   "source": []
  },
  {
   "cell_type": "markdown",
   "id": "3fa04516",
   "metadata": {},
   "source": [
    "### 9. WAP to check whether an input integer is strong number or not."
   ]
  },
  {
   "cell_type": "code",
   "execution_count": null,
   "id": "3fe56fc3",
   "metadata": {},
   "outputs": [],
   "source": []
  },
  {
   "cell_type": "markdown",
   "id": "4a72e556",
   "metadata": {},
   "source": [
    "### 10. WAP to find out the prime factors of a number entered through keyboard"
   ]
  },
  {
   "cell_type": "code",
   "execution_count": null,
   "id": "7884fde9",
   "metadata": {},
   "outputs": [],
   "source": []
  },
  {
   "cell_type": "markdown",
   "id": "1eb3d3b1",
   "metadata": {},
   "source": [
    "### 11. WAP to find the first n numbers of a Fibonacci sequence."
   ]
  },
  {
   "cell_type": "code",
   "execution_count": null,
   "id": "ed126612",
   "metadata": {},
   "outputs": [],
   "source": []
  },
  {
   "cell_type": "markdown",
   "id": "4c17a1fe",
   "metadata": {},
   "source": [
    "### 12. WAP to print the series as 1 2 7 15 31 ..........n, where n is given by user."
   ]
  },
  {
   "cell_type": "code",
   "execution_count": null,
   "id": "b3721096",
   "metadata": {},
   "outputs": [],
   "source": []
  },
  {
   "cell_type": "markdown",
   "id": "6f59348a",
   "metadata": {},
   "source": [
    "### 13. WAP to print the series as 3 5 7 11 13 17..........n, where n is given by user."
   ]
  },
  {
   "cell_type": "code",
   "execution_count": null,
   "id": "e396de77",
   "metadata": {},
   "outputs": [],
   "source": []
  },
  {
   "cell_type": "markdown",
   "id": "d9b760a8",
   "metadata": {},
   "source": [
    "### 14. WAP to sum the following series S=1+(1+2)+(1+2+3)+...+(1+2+3+...+n)"
   ]
  },
  {
   "cell_type": "code",
   "execution_count": null,
   "id": "501402a7",
   "metadata": {},
   "outputs": [],
   "source": []
  },
  {
   "cell_type": "markdown",
   "id": "3110bd17",
   "metadata": {},
   "source": [
    "### 15. WAP to print the following pattern for n rows. Ex. for n=5 rows\n",
    "### *\n",
    "### * *\n",
    "### * * *\n",
    "### * * * *\n",
    "### * * * * *"
   ]
  },
  {
   "cell_type": "code",
   "execution_count": 13,
   "id": "4c57b177",
   "metadata": {},
   "outputs": [
    {
     "name": "stdout",
     "output_type": "stream",
     "text": [
      "\n",
      "\n",
      "*  \n",
      "\n",
      "*  *  \n",
      "\n",
      "*  *  *  \n",
      "\n",
      "*  *  *  *  \n",
      "\n",
      "*  *  *  *  *  \n",
      "\n"
     ]
    }
   ],
   "source": [
    "def pattern(n):\n",
    "    for i in range (0,n):\n",
    "        for j in range (0,i):\n",
    "            print(\"* \",end=\" \")\n",
    "        print(\"\\n\")\n",
    "            \n",
    "pattern(6)"
   ]
  },
  {
   "cell_type": "code",
   "execution_count": null,
   "id": "26a22355",
   "metadata": {},
   "outputs": [],
   "source": []
  }
 ],
 "metadata": {
  "kernelspec": {
   "display_name": "Python 3 (ipykernel)",
   "language": "python",
   "name": "python3"
  },
  "language_info": {
   "codemirror_mode": {
    "name": "ipython",
    "version": 3
   },
   "file_extension": ".py",
   "mimetype": "text/x-python",
   "name": "python",
   "nbconvert_exporter": "python",
   "pygments_lexer": "ipython3",
   "version": "3.9.13"
  }
 },
 "nbformat": 4,
 "nbformat_minor": 5
}
