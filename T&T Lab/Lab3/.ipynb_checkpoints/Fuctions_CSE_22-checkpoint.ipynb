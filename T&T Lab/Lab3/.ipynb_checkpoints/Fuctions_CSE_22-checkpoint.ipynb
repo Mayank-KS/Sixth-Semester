{
 "cells": [
  {
   "cell_type": "code",
   "execution_count": 1,
   "id": "49ddb546",
   "metadata": {},
   "outputs": [],
   "source": [
    "## Functions"
   ]
  },
  {
   "cell_type": "code",
   "execution_count": 2,
   "id": "f3184f07",
   "metadata": {},
   "outputs": [],
   "source": [
    "def function_name():\n",
    "    pass\n",
    "function_name()"
   ]
  },
  {
   "cell_type": "code",
   "execution_count": 3,
   "id": "5ec161e7",
   "metadata": {},
   "outputs": [
    {
     "name": "stdout",
     "output_type": "stream",
     "text": [
      "Good Morning Guys: \n",
      "I wish there was a substitute of hardwork except raw talent\n"
     ]
    }
   ],
   "source": [
    "def wish():\n",
    "    print(\"Good Morning Guys: \")\n",
    "    print(\"I wish there was a substitute of hardwork except raw talent\")\n",
    "    pass\n",
    "wish()"
   ]
  },
  {
   "cell_type": "code",
   "execution_count": 4,
   "id": "ecb2a17b",
   "metadata": {},
   "outputs": [
    {
     "name": "stdout",
     "output_type": "stream",
     "text": [
      "Enter first no: 10\n",
      "Enter second no: 69\n",
      "Sum =  79\n"
     ]
    }
   ],
   "source": [
    "def addition(a1,a2):\n",
    "    ans = a1+a2\n",
    "    print(\"Sum = \",ans)\n",
    "\n",
    "num1 = int(input(\"Enter first no: \"))\n",
    "num2 = int(input(\"Enter second no: \"))\n",
    "\n",
    "addition(num1,num2)"
   ]
  },
  {
   "cell_type": "code",
   "execution_count": 5,
   "id": "96cedb9e",
   "metadata": {},
   "outputs": [],
   "source": [
    "## Add two numbers using reverse"
   ]
  },
  {
   "cell_type": "code",
   "execution_count": 7,
   "id": "e0a77e46",
   "metadata": {},
   "outputs": [
    {
     "name": "stdout",
     "output_type": "stream",
     "text": [
      "The sum is:  123.9\n",
      "Sum is :  489.96\n"
     ]
    }
   ],
   "source": [
    "def sum(v1,v2):\n",
    "    return v1+v2\n",
    "\n",
    "print(\"The sum is: \",sum(75, 48.9))\n",
    "res = sum(69 , 420.96)\n",
    "print(\"Sum is : \",res)"
   ]
  },
  {
   "cell_type": "code",
   "execution_count": 9,
   "id": "cf9fcd81",
   "metadata": {},
   "outputs": [
    {
     "name": "stdout",
     "output_type": "stream",
     "text": [
      "Gm  Mayank Kumar Sharma\n"
     ]
    }
   ],
   "source": [
    "def wish(name):\n",
    "    print(\"Gm \", name)\n",
    "    return\n",
    "    print(\"It means good morning\")\n",
    "\n",
    "wish(\"Mayank Kumar Sharma\")"
   ]
  },
  {
   "cell_type": "code",
   "execution_count": 11,
   "id": "7e9df788",
   "metadata": {},
   "outputs": [
    {
     "name": "stdout",
     "output_type": "stream",
     "text": [
      "The  Coconut  is supplied from  Puri  at per item  35\n"
     ]
    }
   ],
   "source": [
    "## Positional arguement : Order is fixed\n",
    "def fruit(name,price,city):\n",
    "    print(\"The \",name,\" is supplied from \",city,\" at per item \",price)\n",
    "    \n",
    "fruit(\"Coconut\",35,\"Puri\")"
   ]
  },
  {
   "cell_type": "code",
   "execution_count": 12,
   "id": "9a676a50",
   "metadata": {},
   "outputs": [],
   "source": [
    "## Default Arguements"
   ]
  },
  {
   "cell_type": "code",
   "execution_count": 13,
   "id": "4f098e7f",
   "metadata": {},
   "outputs": [
    {
     "name": "stdout",
     "output_type": "stream",
     "text": [
      "The  Coconut  is supplied from  Thiruvantapuram  at per item  35\n"
     ]
    }
   ],
   "source": [
    "def fruit(name,price,city = \"Thiruvantapuram\"):\n",
    "    print(\"The \",name,\" is supplied from \",city,\" at per item \",price)\n",
    "    \n",
    "fruit(\"Coconut\",35)"
   ]
  },
  {
   "cell_type": "code",
   "execution_count": 15,
   "id": "2d446a8d",
   "metadata": {},
   "outputs": [
    {
     "name": "stdout",
     "output_type": "stream",
     "text": [
      "Marks:  9\n",
      "Name:  Mayank\n",
      "Roll:  1013\n"
     ]
    }
   ],
   "source": [
    "## Keyword Arguement: ordder is not fixed\n",
    "\n",
    "def stud_info(name , CGPA , roll):\n",
    "    print(\"Marks: \", CGPA)\n",
    "    print(\"Name: \", name)\n",
    "    print(\"Roll: \", roll)\n",
    "\n",
    "stud_info(name = \"Mayank\" , CGPA = 9 , roll = 1013)"
   ]
  },
  {
   "cell_type": "code",
   "execution_count": 19,
   "id": "70187152",
   "metadata": {},
   "outputs": [
    {
     "name": "stdout",
     "output_type": "stream",
     "text": [
      "8.7\n",
      "6.9\n",
      "(8.5, 8.6, 8.7, 6.9, 'Mayank')\n",
      "8.5\n",
      "8.6\n",
      "8.7\n",
      "6.9\n",
      "Mayank\n"
     ]
    }
   ],
   "source": [
    "## Arbitrary Arguements : You don't know in advance how many arguements to be passed during function call\n",
    "\n",
    "def stud(*details):\n",
    "    print(details[2])\n",
    "    print(details[-2])\n",
    "    print(details)\n",
    "    # tuple comprehension\n",
    "    [print (item) for item in details]\n",
    "    \n",
    "stud(8.5,8.6,8.7,6.9,\"Mayank\")"
   ]
  },
  {
   "cell_type": "code",
   "execution_count": 26,
   "id": "b79a0a9b",
   "metadata": {},
   "outputs": [
    {
     "name": "stdout",
     "output_type": "stream",
     "text": [
      "8.6\n",
      "8.7\n",
      "{'A': 8.5, 'B': 8.6, 'C': 8.7, 'Mayank': 6.9}\n",
      "8.5\n",
      "8.6\n",
      "8.7\n",
      "6.9\n"
     ]
    }
   ],
   "source": [
    "# keyword arbitary arguement\n",
    "def stud(**details):\n",
    "    print(details['B'])\n",
    "    print(details['C'])\n",
    "    print(details)\n",
    "    for item in details:\n",
    "        print(details[item])\n",
    "    \n",
    "stud(A = 8.5,B = 8.6,C = 8.7,Mayank = 6.9)"
   ]
  },
  {
   "cell_type": "code",
   "execution_count": 27,
   "id": "a6efc60a",
   "metadata": {},
   "outputs": [],
   "source": [
    "## Passing iterator in function: It can be list, tuple or set"
   ]
  },
  {
   "cell_type": "code",
   "execution_count": 33,
   "id": "d49d8e62",
   "metadata": {},
   "outputs": [
    {
     "name": "stdout",
     "output_type": "stream",
     "text": [
      "The cube of the given list is:  [64, 343, -729, 0.09112500000000001]\n"
     ]
    }
   ],
   "source": [
    "# Display the cube of numbers passed in list during function call\n",
    "\n",
    "def cube_nos(myLis):\n",
    "    l = []\n",
    "    [l.append(item**3) for item in myLis]\n",
    "    return l\n",
    "\n",
    "myList = [4, 7, -9, 0.45]\n",
    "\n",
    "print(\"The cube of the given list is: \", cube_nos(myList))"
   ]
  },
  {
   "cell_type": "code",
   "execution_count": null,
   "id": "41ec21d9",
   "metadata": {},
   "outputs": [],
   "source": []
  }
 ],
 "metadata": {
  "kernelspec": {
   "display_name": "Python 3 (ipykernel)",
   "language": "python",
   "name": "python3"
  },
  "language_info": {
   "codemirror_mode": {
    "name": "ipython",
    "version": 3
   },
   "file_extension": ".py",
   "mimetype": "text/x-python",
   "name": "python",
   "nbconvert_exporter": "python",
   "pygments_lexer": "ipython3",
   "version": "3.9.13"
  }
 },
 "nbformat": 4,
 "nbformat_minor": 5
}
